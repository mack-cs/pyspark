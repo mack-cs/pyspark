{
 "cells": [
  {
   "cell_type": "code",
   "execution_count": 4,
   "id": "75ce4479",
   "metadata": {},
   "outputs": [],
   "source": [
    "# import findspark\n",
    "# findspark.init()\n",
    "\n",
    "from pyspark.sql import SparkSession\n",
    "spark = SparkSession.builder.master(\"local\").appName(\"Pivot\").getOrCreate()"
   ]
  },
  {
   "cell_type": "code",
   "execution_count": 12,
   "id": "411b7915",
   "metadata": {},
   "outputs": [
    {
     "name": "stdout",
     "output_type": "stream",
     "text": [
      "root\n",
      " |-- ROLL_NO: integer (nullable = true)\n",
      " |-- SUBJECT: string (nullable = true)\n",
      " |-- MARKS: integer (nullable = true)\n",
      "\n",
      "+-------+-------+-----+\n",
      "|ROLL_NO|SUBJECT|MARKS|\n",
      "+-------+-------+-----+\n",
      "|   1001|English|   90|\n",
      "|   1001|Physics|   55|\n",
      "|   1001|  Maths|   98|\n",
      "|   1001|Science|   79|\n",
      "|   1001|History|   79|\n",
      "|   1002|English|   84|\n",
      "|   1002|Physics|   80|\n",
      "|   1002|  Maths|   88|\n",
      "|   1002|Science|  100|\n",
      "|   1002|History|   45|\n",
      "+-------+-------+-----+\n",
      "\n"
     ]
    }
   ],
   "source": [
    "df = spark.read.csv(\"data_.csv\", header=True, inferSchema=True)\n",
    "df.printSchema()\n",
    "df.show()"
   ]
  },
  {
   "cell_type": "code",
   "execution_count": 15,
   "id": "05bd7344",
   "metadata": {},
   "outputs": [],
   "source": [
    "tbl = df.groupby('ROLL_NO').pivot('SUBJECT').max('MARKS')"
   ]
  },
  {
   "cell_type": "code",
   "execution_count": 16,
   "id": "fc9513e9",
   "metadata": {},
   "outputs": [
    {
     "data": {
      "text/plain": [
       "DataFrame[ROLL_NO: int, English: int, History: int, Maths: int, Physics: int, Science: int, Total: int]"
      ]
     },
     "execution_count": 16,
     "metadata": {},
     "output_type": "execute_result"
    }
   ],
   "source": []
  },
  {
   "cell_type": "code",
   "execution_count": 19,
   "id": "de88b051",
   "metadata": {},
   "outputs": [
    {
     "name": "stdout",
     "output_type": "stream",
     "text": [
      "+-------+-------+-------+-----+-------+-------+-----+\n",
      "|ROLL_NO|English|History|Maths|Physics|Science|Total|\n",
      "+-------+-------+-------+-----+-------+-------+-----+\n",
      "|   1002|     84|     45|   88|     80|    100|  397|\n",
      "|   1001|     90|     79|   98|     55|     79|  401|\n",
      "+-------+-------+-------+-----+-------+-------+-----+\n",
      "\n"
     ]
    }
   ],
   "source": [
    "tbl = tbl.withColumn(\"Total\",tbl['English']+tbl['Science']+tbl['Maths']+tbl['History']+tbl['Physics'])\n",
    "tbl.show()"
   ]
  }
 ],
 "metadata": {
  "kernelspec": {
   "display_name": "Python 3 (ipykernel)",
   "language": "python",
   "name": "python3"
  },
  "language_info": {
   "codemirror_mode": {
    "name": "ipython",
    "version": 3
   },
   "file_extension": ".py",
   "mimetype": "text/x-python",
   "name": "python",
   "nbconvert_exporter": "python",
   "pygments_lexer": "ipython3",
   "version": "3.9.6"
  }
 },
 "nbformat": 4,
 "nbformat_minor": 5
}
